{
 "cells": [
  {
   "cell_type": "markdown",
   "id": "c12ed1c5",
   "metadata": {},
   "source": [
    "\n",
    "<b>------------------------------------------------------------------------------------------CODE WITH ARUN--------------------------------------------------------------------------------------------</b>\n",
    "\n",
    "<b>------------------------------------------------------------------------------------------**LIKE|SHARE|SUBSCRIBE**-----------------------------------------------------------------------------------</b>\n",
    "\n",
    "\n",
    "# Variables \n",
    "\n",
    "Python Comments\n",
    "\n",
    "Python Variables\n",
    "\n",
    "Variable Names\n",
    "\n",
    "Assign Multiple Values\n",
    "\n",
    "Output Variables\n",
    "\n",
    "Global Variables\n",
    "\n",
    "<b>------------------------------------------------------------------------------------------------------------------------------------------------------------------------------------------------------------------</b>\n",
    "<b>------------------------------------------------------------------------------------------------------------------------------------------------------------------------------------------------------------------</b>"
   ]
  },
  {
   "cell_type": "code",
   "execution_count": null,
   "id": "7999468d",
   "metadata": {},
   "outputs": [],
   "source": []
  },
  {
   "cell_type": "markdown",
   "id": "583338ab",
   "metadata": {},
   "source": [
    "# Python Comments\n",
    "\n",
    "Comments can be used to explain Python code.\n",
    "\n",
    "Comments can be used to make the code more readable.\n",
    "\n",
    "Comments can be used to prevent execution when testing code.\n",
    "\n",
    "Creating a Comment\n",
    "Comments starts with a #, and Python will ignore them:"
   ]
  },
  {
   "cell_type": "code",
   "execution_count": 1,
   "id": "0446c869",
   "metadata": {},
   "outputs": [
    {
     "name": "stdout",
     "output_type": "stream",
     "text": [
      "Hello, World!\n"
     ]
    }
   ],
   "source": [
    "# Creating a Comment\n",
    "# Comments starts with a #, and Python will ignore them:\n",
    "\n",
    "print(\"Hello, World!\") #This is a comment\n",
    "\n",
    "# A comment does not have to be text that explains the code, it can also be used to prevent Python from executing code:"
   ]
  },
  {
   "cell_type": "code",
   "execution_count": 2,
   "id": "ccdc31bb",
   "metadata": {},
   "outputs": [],
   "source": [
    "# THIS IS A \n",
    "# MULTILINE COMMENT\n",
    "# THIS WAY ALSO WE CAN WRITE"
   ]
  },
  {
   "cell_type": "code",
   "execution_count": null,
   "id": "e4d5a435",
   "metadata": {},
   "outputs": [],
   "source": []
  },
  {
   "cell_type": "code",
   "execution_count": null,
   "id": "33b5b0e7",
   "metadata": {},
   "outputs": [],
   "source": []
  },
  {
   "cell_type": "code",
   "execution_count": null,
   "id": "f840813e",
   "metadata": {},
   "outputs": [],
   "source": [
    "# Multiline Comments\n",
    "\n",
    "#This is a comment\n",
    "#written in\n",
    "#more than just one line\n",
    "print(\"Hello, World!\")\n",
    "\n",
    "\n",
    "# Or, not quite as intended, you can use a multiline string.\n",
    "\n",
    "# Since Python will ignore string literals that are not assigned to a variable, you can add a multiline string (triple quotes) in your code, \n",
    "# and place your comment inside it:"
   ]
  },
  {
   "cell_type": "code",
   "execution_count": 3,
   "id": "ec96733f",
   "metadata": {},
   "outputs": [
    {
     "name": "stdout",
     "output_type": "stream",
     "text": [
      "Hello, World!\n"
     ]
    }
   ],
   "source": [
    "\"\"\"\n",
    "This is a comment\n",
    "written in\n",
    "more than just one line\n",
    "\"\"\"\n",
    "print(\"Hello, World!\")\n"
   ]
  },
  {
   "cell_type": "code",
   "execution_count": 5,
   "id": "8f6f7559",
   "metadata": {},
   "outputs": [
    {
     "name": "stdout",
     "output_type": "stream",
     "text": [
      "Hello, World!\n"
     ]
    }
   ],
   "source": [
    "'''This is a comment\n",
    "written in\n",
    "more than just one line'''\n",
    "\n",
    "print(\"Hello, World!\")\n"
   ]
  },
  {
   "cell_type": "markdown",
   "id": "5ea25952",
   "metadata": {},
   "source": [
    "# Python Variables\n",
    "\n",
    "Variables are containers for storing data values."
   ]
  },
  {
   "cell_type": "markdown",
   "id": "0632199f",
   "metadata": {},
   "source": [
    "\n",
    "Creating Variables\n",
    "\n",
    "Python has no command for declaring a variable.\n",
    "\n",
    "A variable is created the moment you first assign a value to it."
   ]
  },
  {
   "cell_type": "code",
   "execution_count": 6,
   "id": "aef3bf19",
   "metadata": {},
   "outputs": [
    {
     "name": "stdout",
     "output_type": "stream",
     "text": [
      "<class 'int'>\n",
      "<class 'str'>\n"
     ]
    }
   ],
   "source": [
    "# If you want to specify the data type of a variable, this can be done with casting\n",
    "\n",
    "\n",
    "x = str(3)    # x will be '3'\n",
    "y = int(3)    # y will be 3\n",
    "z = float(3)  # z will be 3.0\n",
    "\n",
    "# Get the Type\n",
    "\n",
    "# You can get the data type of a variable with the type() function.\n",
    "\n",
    "x = 5\n",
    "y = \"John\"\n",
    "print(type(x))\n",
    "print(type(y))"
   ]
  },
  {
   "cell_type": "code",
   "execution_count": null,
   "id": "0d493207",
   "metadata": {},
   "outputs": [],
   "source": [
    "x = 5\n",
    "y = \"John\"\n",
    "print(x)\n",
    "print(y)"
   ]
  },
  {
   "cell_type": "code",
   "execution_count": 7,
   "id": "dae5a77c",
   "metadata": {},
   "outputs": [
    {
     "name": "stdout",
     "output_type": "stream",
     "text": [
      "John\n",
      "John\n"
     ]
    }
   ],
   "source": [
    "# String variables can be declared either by using single or double quotes:\n",
    "\n",
    "x = \"John\"\n",
    "\n",
    "print(x)\n",
    "# is the same as\n",
    "x = 'John'\n",
    "\n",
    "print(x)"
   ]
  },
  {
   "cell_type": "code",
   "execution_count": 10,
   "id": "091cc928",
   "metadata": {},
   "outputs": [
    {
     "name": "stdout",
     "output_type": "stream",
     "text": [
      "4\n",
      "Sally\n"
     ]
    }
   ],
   "source": [
    "# variable is a case sentive\n",
    "a = 4\n",
    "A = \"Sally\"\n",
    "#A will not overwrite a\n",
    "\n",
    "print(a)\n",
    "print(A)\n"
   ]
  },
  {
   "cell_type": "markdown",
   "id": "aae2a26a",
   "metadata": {},
   "source": [
    "# Variable Names"
   ]
  },
  {
   "cell_type": "code",
   "execution_count": null,
   "id": "6b25459c",
   "metadata": {},
   "outputs": [],
   "source": [
    "# Legal variable names:\n",
    "myvar = \"John\"\n",
    "my_var = \"John\"\n",
    "_my_var = \"John\"\n",
    "myVar = \"John\"\n",
    "MYVAR = \"John\"\n",
    "myvar2 = \"John\"\n",
    "sdsd1213 = 232\n",
    "_123 = 2323\n",
    "heloo_world = \"qwqwqwe\"\n",
    "\n"
   ]
  },
  {
   "cell_type": "code",
   "execution_count": 11,
   "id": "8f34e978",
   "metadata": {},
   "outputs": [
    {
     "ename": "SyntaxError",
     "evalue": "invalid syntax (Temp/ipykernel_8716/3260110506.py, line 3)",
     "output_type": "error",
     "traceback": [
      "\u001b[1;36m  File \u001b[1;32m\"C:\\Users\\Arun\\AppData\\Local\\Temp/ipykernel_8716/3260110506.py\"\u001b[1;36m, line \u001b[1;32m3\u001b[0m\n\u001b[1;33m    2myvar = \"John\"\u001b[0m\n\u001b[1;37m     ^\u001b[0m\n\u001b[1;31mSyntaxError\u001b[0m\u001b[1;31m:\u001b[0m invalid syntax\n"
     ]
    }
   ],
   "source": [
    "\n",
    "# Illegal variable names:\n",
    "\n",
    "2myvar = \"John\"\n",
    "my-var = \"John\"\n",
    "my var = \"John\""
   ]
  },
  {
   "cell_type": "code",
   "execution_count": null,
   "id": "4d8a59a1",
   "metadata": {},
   "outputs": [],
   "source": [
    "# Multi Words Variable Names\n",
    "# Camel Case Each word, except the first, starts with a capital letter:\n",
    "myVariableName = \"John\"\n",
    "\n",
    "# Pascal Case\n",
    "# Each word starts with a capital letter:\n",
    "MyVariableName = \"John\"\n",
    "\n",
    "# Snake Case\n",
    "# Each word is separated by an underscore character:\n",
    "\n",
    "my_variable_name = \"John\""
   ]
  },
  {
   "cell_type": "markdown",
   "id": "d38dd540",
   "metadata": {},
   "source": [
    "# Assign Multiple Values"
   ]
  },
  {
   "cell_type": "code",
   "execution_count": 12,
   "id": "702b3676",
   "metadata": {},
   "outputs": [
    {
     "name": "stdout",
     "output_type": "stream",
     "text": [
      "('orange', 'pinaple', 'apple')\n",
      "('orange', 'pinaple', 'apple')\n",
      "('orange', 'pinaple', 'apple')\n"
     ]
    }
   ],
   "source": [
    "a = \"orange\", \"pinaple\", \"apple\"\n",
    "a\n",
    "\n",
    "\n",
    "a = b = y = \"orange\", \"pinaple\", \"apple\"\n",
    "\n",
    "print(a)\n",
    "print(b)\n",
    "print(y)"
   ]
  },
  {
   "cell_type": "code",
   "execution_count": 13,
   "id": "69c3caab",
   "metadata": {},
   "outputs": [
    {
     "name": "stdout",
     "output_type": "stream",
     "text": [
      "Orange\n",
      "Banana\n",
      "Cherry\n",
      "Orange\n",
      "Orange\n",
      "Orange\n"
     ]
    }
   ],
   "source": [
    "x, y, z = \"Orange\", \"Banana\", \"Cherry\"\n",
    "print(x)\n",
    "print(y)\n",
    "print(z)\n",
    "\n",
    "# And you can assign the same value to multiple variables in one line:\n",
    "\n",
    "x = y = z = \"Orange\"\n",
    "print(x)\n",
    "print(y)\n",
    "print(z)"
   ]
  },
  {
   "cell_type": "code",
   "execution_count": 14,
   "id": "42ddf4b6",
   "metadata": {},
   "outputs": [
    {
     "name": "stdout",
     "output_type": "stream",
     "text": [
      "apple\n",
      "banana\n",
      "cherry\n"
     ]
    }
   ],
   "source": [
    "# If you have a collection of values in a list, tuple etc. Python allows you to extract the values into variables. This is called unpacking.\n",
    "\n",
    "fruits = [\"apple\", \"banana\", \"cherry\"]\n",
    "x, y, z = fruits\n",
    "print(x)\n",
    "print(y)\n",
    "print(z)"
   ]
  },
  {
   "cell_type": "markdown",
   "id": "935ff011",
   "metadata": {},
   "source": [
    "# Output Variables"
   ]
  },
  {
   "cell_type": "code",
   "execution_count": 15,
   "id": "6c905bcd",
   "metadata": {},
   "outputs": [
    {
     "name": "stdout",
     "output_type": "stream",
     "text": [
      "('orange', 'pinaple', 'apple')\n",
      "('orange', 'pinaple', 'apple')\n",
      "cherry\n"
     ]
    }
   ],
   "source": [
    "print(a)\n",
    "print(b)\n",
    "print(z)"
   ]
  },
  {
   "cell_type": "markdown",
   "id": "9e7a2c53",
   "metadata": {},
   "source": [
    "# Global Variables"
   ]
  },
  {
   "cell_type": "code",
   "execution_count": 16,
   "id": "6e8d49aa",
   "metadata": {},
   "outputs": [
    {
     "name": "stdout",
     "output_type": "stream",
     "text": [
      "Python is awesome\n"
     ]
    }
   ],
   "source": [
    "x = \"awesome\"\n",
    "\n",
    "def myfunc():\n",
    "  print(\"Python is \" + x)\n",
    "\n",
    "myfunc()"
   ]
  },
  {
   "cell_type": "code",
   "execution_count": 17,
   "id": "15e9577d",
   "metadata": {},
   "outputs": [
    {
     "name": "stdout",
     "output_type": "stream",
     "text": [
      "Python is fantastic\n",
      "Python is awesome\n"
     ]
    }
   ],
   "source": [
    "# Create a variable inside a function, with the same name as the global variable\n",
    "\n",
    "x = \"awesome\"\n",
    "\n",
    "def myfunc():\n",
    "  x = \"fantastic\"\n",
    "  print(\"Python is \" + x)\n",
    "\n",
    "myfunc()\n",
    "\n",
    "print(\"Python is \" + x)"
   ]
  },
  {
   "cell_type": "code",
   "execution_count": null,
   "id": "f5679d3a",
   "metadata": {},
   "outputs": [],
   "source": []
  },
  {
   "cell_type": "code",
   "execution_count": 18,
   "id": "a965a9c4",
   "metadata": {},
   "outputs": [
    {
     "name": "stdout",
     "output_type": "stream",
     "text": [
      "Python is fantastic\n"
     ]
    }
   ],
   "source": [
    "# If you use the global keyword, the variable belongs to the global scope:\n",
    "\n",
    "def myfunc():\n",
    "  global x\n",
    "  x = \"fantastic\"\n",
    "\n",
    "myfunc()\n",
    "\n",
    "print(\"Python is \" + x)"
   ]
  },
  {
   "cell_type": "code",
   "execution_count": 19,
   "id": "3f4b5377",
   "metadata": {},
   "outputs": [
    {
     "name": "stdout",
     "output_type": "stream",
     "text": [
      "Expence calc\n",
      "Expence iteams are'shopping','groceries','petrol'\n",
      "25000\n"
     ]
    }
   ],
   "source": [
    "print(\"Expence calc\")\n",
    "shopping = 12000\n",
    "groceries = 10000\n",
    "petrol = 3000\n",
    "\n",
    "total = shopping + groceries + petrol\n",
    "print(\"Expence iteams are'shopping','groceries','petrol'\" )\n",
    "\n",
    "print(total)\n",
    "\n"
   ]
  },
  {
   "cell_type": "code",
   "execution_count": null,
   "id": "0899490e",
   "metadata": {},
   "outputs": [],
   "source": []
  },
  {
   "cell_type": "code",
   "execution_count": null,
   "id": "87f82e59",
   "metadata": {},
   "outputs": [],
   "source": []
  },
  {
   "cell_type": "code",
   "execution_count": null,
   "id": "e112919c",
   "metadata": {},
   "outputs": [],
   "source": []
  },
  {
   "cell_type": "code",
   "execution_count": null,
   "id": "8275b406",
   "metadata": {},
   "outputs": [],
   "source": []
  },
  {
   "cell_type": "markdown",
   "id": "2825d989",
   "metadata": {},
   "source": [
    "<b>------------------------------------------------------------------------------------------------------------------------\n",
    "\n",
    "    THANK YOU FOR YOUR TIME\n",
    "\n",
    "    \n",
    "    HOPE TODAY YOU LEARNED SOMETHING \n",
    "\n",
    "    \n",
    "    KEEP LEARNING \n",
    "<b>------------------------------------------------------------------------------------------------------------------------</b>"
   ]
  },
  {
   "cell_type": "code",
   "execution_count": null,
   "id": "3c1c2cde",
   "metadata": {},
   "outputs": [],
   "source": [
    "\n"
   ]
  },
  {
   "cell_type": "code",
   "execution_count": null,
   "id": "c77b0027",
   "metadata": {},
   "outputs": [],
   "source": []
  },
  {
   "cell_type": "code",
   "execution_count": null,
   "id": "6806bfd8",
   "metadata": {},
   "outputs": [],
   "source": []
  },
  {
   "cell_type": "code",
   "execution_count": null,
   "id": "d3d78ffe",
   "metadata": {},
   "outputs": [],
   "source": [
    "|"
   ]
  }
 ],
 "metadata": {
  "kernelspec": {
   "display_name": "Python 3 (ipykernel)",
   "language": "python",
   "name": "python3"
  },
  "language_info": {
   "codemirror_mode": {
    "name": "ipython",
    "version": 3
   },
   "file_extension": ".py",
   "mimetype": "text/x-python",
   "name": "python",
   "nbconvert_exporter": "python",
   "pygments_lexer": "ipython3",
   "version": "3.9.7"
  }
 },
 "nbformat": 4,
 "nbformat_minor": 5
}
